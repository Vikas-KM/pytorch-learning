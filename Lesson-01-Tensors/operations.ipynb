{
 "cells": [
  {
   "cell_type": "code",
   "execution_count": 1,
   "metadata": {},
   "outputs": [],
   "source": [
    "import torch\n",
    "import numpy as np"
   ]
  },
  {
   "cell_type": "markdown",
   "metadata": {},
   "source": [
    "#### By default, tensors are created on the CPU. We need to explicitly move tensors to the GPU using .to method (after checking for GPU availability)."
   ]
  },
  {
   "cell_type": "code",
   "execution_count": 6,
   "metadata": {},
   "outputs": [
    {
     "name": "stdout",
     "output_type": "stream",
     "text": [
      "tensor([[0.9085, 0.7310, 0.9703, 0.9859],\n",
      "        [0.8757, 0.7319, 0.6833, 0.0125],\n",
      "        [0.1252, 0.1245, 0.0555, 0.0995]])\n"
     ]
    }
   ],
   "source": [
    "tensor = torch.rand(3,4)\n",
    "print(tensor)"
   ]
  },
  {
   "cell_type": "code",
   "execution_count": 7,
   "metadata": {},
   "outputs": [],
   "source": [
    "# We move our tensor to the GPU if available\n",
    "if torch.cuda.is_available():\n",
    "    tensor = tensor.to(\"cuda\")"
   ]
  },
  {
   "cell_type": "code",
   "execution_count": 8,
   "metadata": {},
   "outputs": [
    {
     "name": "stdout",
     "output_type": "stream",
     "text": [
      "First row: tensor([0.9085, 0.7310, 0.9703, 0.9859])\n"
     ]
    }
   ],
   "source": [
    "print(f\"First row: {tensor[0]}\")"
   ]
  },
  {
   "cell_type": "code",
   "execution_count": 9,
   "metadata": {},
   "outputs": [
    {
     "name": "stdout",
     "output_type": "stream",
     "text": [
      "First Column: tensor([0.9085, 0.8757, 0.1252])\n"
     ]
    }
   ],
   "source": [
    "print(f\"First Column: {tensor[:,0]}\")"
   ]
  },
  {
   "cell_type": "code",
   "execution_count": 10,
   "metadata": {},
   "outputs": [
    {
     "name": "stdout",
     "output_type": "stream",
     "text": [
      "Last Column:tensor([0.9859, 0.0125, 0.0995])\n"
     ]
    }
   ],
   "source": [
    "print(f\"Last Column:{tensor[:,-1]}\")"
   ]
  },
  {
   "cell_type": "code",
   "execution_count": 17,
   "metadata": {},
   "outputs": [
    {
     "name": "stdout",
     "output_type": "stream",
     "text": [
      "Last Column:tensor([0.9859, 0.0125, 0.0995])\n"
     ]
    }
   ],
   "source": [
    "print(f\"Last Column:{tensor[...,-1]}\")"
   ]
  },
  {
   "cell_type": "code",
   "execution_count": 19,
   "metadata": {},
   "outputs": [
    {
     "name": "stdout",
     "output_type": "stream",
     "text": [
      "tensor([[0.9085, 0.0000, 0.9703, 0.9859],\n",
      "        [0.8757, 0.0000, 0.6833, 0.0125],\n",
      "        [0.1252, 0.0000, 0.0555, 0.0995]])\n"
     ]
    }
   ],
   "source": [
    "tensor[:,1] = 0\n",
    "print(tensor)"
   ]
  },
  {
   "cell_type": "markdown",
   "metadata": {},
   "source": [
    "##### Joining tensors You can use torch.cat to concatenate a sequence of tensors along a given dimension"
   ]
  },
  {
   "cell_type": "code",
   "execution_count": 20,
   "metadata": {},
   "outputs": [
    {
     "name": "stdout",
     "output_type": "stream",
     "text": [
      "tensor([[0.9085, 0.0000, 0.9703, 0.9859],\n",
      "        [0.8757, 0.0000, 0.6833, 0.0125],\n",
      "        [0.1252, 0.0000, 0.0555, 0.0995]])\n"
     ]
    }
   ],
   "source": [
    "print(tensor)"
   ]
  },
  {
   "cell_type": "code",
   "execution_count": 22,
   "metadata": {},
   "outputs": [
    {
     "name": "stdout",
     "output_type": "stream",
     "text": [
      "tensor([[0.9085, 0.0000, 0.9703, 0.9859, 0.9085, 0.0000, 0.9703, 0.9859],\n",
      "        [0.8757, 0.0000, 0.6833, 0.0125, 0.8757, 0.0000, 0.6833, 0.0125],\n",
      "        [0.1252, 0.0000, 0.0555, 0.0995, 0.1252, 0.0000, 0.0555, 0.0995]])\n"
     ]
    }
   ],
   "source": [
    "t1 = torch.cat([tensor, tensor], dim=1)\n",
    "print(t1)"
   ]
  },
  {
   "cell_type": "code",
   "execution_count": 23,
   "metadata": {},
   "outputs": [
    {
     "name": "stdout",
     "output_type": "stream",
     "text": [
      "tensor([[0.9085, 0.0000, 0.9703, 0.9859],\n",
      "        [0.8757, 0.0000, 0.6833, 0.0125],\n",
      "        [0.1252, 0.0000, 0.0555, 0.0995],\n",
      "        [0.9085, 0.0000, 0.9703, 0.9859],\n",
      "        [0.8757, 0.0000, 0.6833, 0.0125],\n",
      "        [0.1252, 0.0000, 0.0555, 0.0995]])\n"
     ]
    }
   ],
   "source": [
    "t2 = torch.cat([tensor, tensor], dim=0)\n",
    "print(t2)"
   ]
  },
  {
   "cell_type": "code",
   "execution_count": 24,
   "metadata": {},
   "outputs": [
    {
     "ename": "IndexError",
     "evalue": "Dimension out of range (expected to be in range of [-2, 1], but got 2)",
     "output_type": "error",
     "traceback": [
      "\u001b[0;31m---------------------------------------------------------------------------\u001b[0m",
      "\u001b[0;31mIndexError\u001b[0m                                Traceback (most recent call last)",
      "Cell \u001b[0;32mIn[24], line 1\u001b[0m\n\u001b[0;32m----> 1\u001b[0m t3 \u001b[38;5;241m=\u001b[39m \u001b[43mtorch\u001b[49m\u001b[38;5;241;43m.\u001b[39;49m\u001b[43mcat\u001b[49m\u001b[43m(\u001b[49m\u001b[43m[\u001b[49m\u001b[43mtensor\u001b[49m\u001b[43m,\u001b[49m\u001b[43m \u001b[49m\u001b[43mtensor\u001b[49m\u001b[43m]\u001b[49m\u001b[43m,\u001b[49m\u001b[43m \u001b[49m\u001b[43mdim\u001b[49m\u001b[38;5;241;43m=\u001b[39;49m\u001b[38;5;241;43m2\u001b[39;49m\u001b[43m)\u001b[49m\n\u001b[1;32m      2\u001b[0m \u001b[38;5;28mprint\u001b[39m(t3)\n",
      "\u001b[0;31mIndexError\u001b[0m: Dimension out of range (expected to be in range of [-2, 1], but got 2)"
     ]
    }
   ],
   "source": [
    "t3 = torch.cat([tensor, tensor], dim=2)\n",
    "print(t3)"
   ]
  },
  {
   "cell_type": "code",
   "execution_count": 25,
   "metadata": {},
   "outputs": [
    {
     "name": "stdout",
     "output_type": "stream",
     "text": [
      "tensor([[0.9085, 0.0000, 0.9703, 0.9859, 0.9085, 0.0000, 0.9703, 0.9859],\n",
      "        [0.8757, 0.0000, 0.6833, 0.0125, 0.8757, 0.0000, 0.6833, 0.0125],\n",
      "        [0.1252, 0.0000, 0.0555, 0.0995, 0.1252, 0.0000, 0.0555, 0.0995]])\n"
     ]
    }
   ],
   "source": [
    "t4 = torch.cat([tensor, tensor], dim=-1)\n",
    "print(t4)"
   ]
  },
  {
   "cell_type": "code",
   "execution_count": 26,
   "metadata": {},
   "outputs": [
    {
     "name": "stdout",
     "output_type": "stream",
     "text": [
      "tensor([[0.9085, 0.0000, 0.9703, 0.9859],\n",
      "        [0.8757, 0.0000, 0.6833, 0.0125],\n",
      "        [0.1252, 0.0000, 0.0555, 0.0995],\n",
      "        [0.9085, 0.0000, 0.9703, 0.9859],\n",
      "        [0.8757, 0.0000, 0.6833, 0.0125],\n",
      "        [0.1252, 0.0000, 0.0555, 0.0995]])\n"
     ]
    }
   ],
   "source": [
    "t5 = torch.cat([tensor, tensor], dim=-2)\n",
    "print(t5)"
   ]
  },
  {
   "cell_type": "markdown",
   "metadata": {},
   "source": [
    "### Matrix Multiplication"
   ]
  },
  {
   "cell_type": "code",
   "execution_count": 28,
   "metadata": {},
   "outputs": [
    {
     "name": "stdout",
     "output_type": "stream",
     "text": [
      "y1: tensor([[2.7389, 1.4709, 0.2657],\n",
      "        [1.4709, 1.2339, 0.1488],\n",
      "        [0.2657, 0.1488, 0.0287]])\n",
      "y2:tensor([[2.7389, 1.4709, 0.2657],\n",
      "        [1.4709, 1.2339, 0.1488],\n",
      "        [0.2657, 0.1488, 0.0287]])\n",
      "y3:tensor([[2.7389, 1.4709, 0.2657],\n",
      "        [1.4709, 1.2339, 0.1488],\n",
      "        [0.2657, 0.1488, 0.0287]])\n"
     ]
    }
   ],
   "source": [
    "# This computes the matrix multiplication between two tensors. y1, y2, y3 will \n",
    "# have the same value ``tensor.T`` returns the transpose of a tensor\n",
    "\n",
    "y1 = tensor @ tensor.T \n",
    "print(f\"y1: {y1}\")\n",
    "\n",
    "y2 = tensor.matmul(tensor.T)\n",
    "print(f\"y2:{y2}\")\n",
    "\n",
    "y3 = torch.rand_like(y1)\n",
    "torch.matmul(tensor, tensor.T, out=y3)\n",
    "print(f\"y3:{y3}\")"
   ]
  },
  {
   "cell_type": "markdown",
   "metadata": {},
   "source": [
    "### Element Wise Multiplication"
   ]
  },
  {
   "cell_type": "code",
   "execution_count": 32,
   "metadata": {},
   "outputs": [
    {
     "name": "stdout",
     "output_type": "stream",
     "text": [
      "z1:tensor([[8.2541e-01, 0.0000e+00, 9.4153e-01, 9.7194e-01],\n",
      "        [7.6684e-01, 0.0000e+00, 4.6690e-01, 1.5652e-04],\n",
      "        [1.5666e-02, 0.0000e+00, 3.0789e-03, 9.9102e-03]])\n",
      "z2:tensor([[8.2541e-01, 0.0000e+00, 9.4153e-01, 9.7194e-01],\n",
      "        [7.6684e-01, 0.0000e+00, 4.6690e-01, 1.5652e-04],\n",
      "        [1.5666e-02, 0.0000e+00, 3.0789e-03, 9.9102e-03]])\n",
      "z3:tensor([[8.2541e-01, 0.0000e+00, 9.4153e-01, 9.7194e-01],\n",
      "        [7.6684e-01, 0.0000e+00, 4.6690e-01, 1.5652e-04],\n",
      "        [1.5666e-02, 0.0000e+00, 3.0789e-03, 9.9102e-03]])\n"
     ]
    }
   ],
   "source": [
    "# This computes the element-wise product. z1, z2, z3 will have the same value\n",
    "\n",
    "z1 = tensor * tensor\n",
    "print(f\"z1:{z1}\")\n",
    "\n",
    "z2 = tensor.mul(tensor)\n",
    "print(f\"z2:{z2}\")\n",
    "\n",
    "z3 = torch.rand_like(tensor)\n",
    "torch.mul(tensor, tensor, out=z3)\n",
    "print(f\"z3:{z3}\")"
   ]
  },
  {
   "cell_type": "markdown",
   "metadata": {},
   "source": [
    "#### Single-element tensors \n",
    "##### If you have a one-element tensor, for example by aggregating all values of a tensor into one value, you can convert it to a Python numerical value using item():"
   ]
  },
  {
   "cell_type": "code",
   "execution_count": 35,
   "metadata": {},
   "outputs": [
    {
     "name": "stdout",
     "output_type": "stream",
     "text": [
      "agg:4.716429233551025\n",
      "agg_item:4.716429233551025\n",
      "type(agg_item):<class 'float'>\n"
     ]
    }
   ],
   "source": [
    "agg = tensor.sum()\n",
    "print(f\"agg:{agg}\")\n",
    "\n",
    "agg_item = agg.item()\n",
    "print(f\"agg_item:{agg_item}\")\n",
    "print(f\"type(agg_item):{type(agg_item)}\")"
   ]
  },
  {
   "cell_type": "markdown",
   "metadata": {},
   "source": [
    "#### In-place operations\n",
    "##### Operations that store the result into the operand are called in-place. They are denoted by a _ suffix. For example: x.copy_(y), x.t_(), will change x."
   ]
  },
  {
   "cell_type": "code",
   "execution_count": 37,
   "metadata": {},
   "outputs": [
    {
     "name": "stdout",
     "output_type": "stream",
     "text": [
      "tensor([[0.9085, 0.0000, 0.9703, 0.9859],\n",
      "        [0.8757, 0.0000, 0.6833, 0.0125],\n",
      "        [0.1252, 0.0000, 0.0555, 0.0995]])\n",
      "tensor([[5.9085, 5.0000, 5.9703, 5.9859],\n",
      "        [5.8757, 5.0000, 5.6833, 5.0125],\n",
      "        [5.1252, 5.0000, 5.0555, 5.0995]])\n"
     ]
    }
   ],
   "source": [
    "print(tensor)\n",
    "tensor.add_(5)\n",
    "print(tensor)"
   ]
  },
  {
   "cell_type": "code",
   "execution_count": null,
   "metadata": {},
   "outputs": [],
   "source": []
  }
 ],
 "metadata": {
  "kernelspec": {
   "display_name": "Python 3",
   "language": "python",
   "name": "python3"
  },
  "language_info": {
   "codemirror_mode": {
    "name": "ipython",
    "version": 3
   },
   "file_extension": ".py",
   "mimetype": "text/x-python",
   "name": "python",
   "nbconvert_exporter": "python",
   "pygments_lexer": "ipython3",
   "version": "3.12.1"
  }
 },
 "nbformat": 4,
 "nbformat_minor": 2
}
