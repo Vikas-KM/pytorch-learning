{
 "metadata": {
  "language_info": {
   "codemirror_mode": {
    "name": "ipython",
    "version": 3
   },
   "file_extension": ".py",
   "mimetype": "text/x-python",
   "name": "python",
   "nbconvert_exporter": "python",
   "pygments_lexer": "ipython3",
   "version": "3.6.12-final"
  },
  "orig_nbformat": 2,
  "kernelspec": {
   "name": "python3",
   "display_name": "Python 3.6.12 64-bit ('appliedai': conda)",
   "metadata": {
    "interpreter": {
     "hash": "467e71dfa7d8ddeaefe4343d8beec8bde1deead5e822563ff414a29642b07874"
    }
   }
  }
 },
 "nbformat": 4,
 "nbformat_minor": 2,
 "cells": [
  {
   "cell_type": "code",
   "execution_count": 46,
   "metadata": {},
   "outputs": [],
   "source": [
    "import torch, torchvision\n",
    "import numpy as np \n",
    "import matplotlib.pyplot as plt \n",
    "import pandas as pd "
   ]
  },
  {
   "cell_type": "code",
   "execution_count": 47,
   "metadata": {},
   "outputs": [
    {
     "output_type": "stream",
     "name": "stderr",
     "text": [
      "Downloading: \"https://download.pytorch.org/models/resnet18-5c106cde.pth\" to C:\\Users\\VikasKM/.cache\\torch\\hub\\checkpoints\\resnet18-5c106cde.pth\n",
      "100%|██████████| 44.7M/44.7M [00:15<00:00, 3.00MB/s]\n"
     ]
    }
   ],
   "source": [
    "model = torchvision.models.resnet18(pretrained=True)\n",
    "data = torch.rand(1,3,64,64)\n",
    "labels = torch.rand(1,1000)"
   ]
  },
  {
   "cell_type": "code",
   "execution_count": 48,
   "metadata": {},
   "outputs": [],
   "source": [
    "prediction = model(data)"
   ]
  },
  {
   "cell_type": "code",
   "execution_count": 49,
   "metadata": {},
   "outputs": [],
   "source": [
    "loss = (prediction-labels).sum()\n",
    "loss.backward()"
   ]
  },
  {
   "cell_type": "code",
   "execution_count": 50,
   "metadata": {},
   "outputs": [],
   "source": [
    "optim = torch.optim.SGD(model.parameters(), lr=1e-2, momentum=0.9)"
   ]
  },
  {
   "cell_type": "code",
   "execution_count": 51,
   "metadata": {},
   "outputs": [],
   "source": [
    "optim.step()"
   ]
  },
  {
   "cell_type": "code",
   "execution_count": 199,
   "metadata": {},
   "outputs": [
    {
     "output_type": "stream",
     "name": "stdout",
     "text": [
      "[[ 73.  67.  43.]\n [ 91.  88.  64.]\n [ 87. 134.  58.]\n [102.  43.  37.]\n [ 69.  96.  70.]]\n"
     ]
    }
   ],
   "source": [
    "# inputs = [temp, rainfall, humidity]\n",
    "inputs = np.array([\n",
    "    [73,67,43],\n",
    "    [91,88,64],\n",
    "    [87,134,58],\n",
    "    [102,43,37],\n",
    "    [69,96,70],\n",
    "], dtype='float32')\n",
    "print(inputs)"
   ]
  },
  {
   "cell_type": "code",
   "execution_count": 200,
   "metadata": {},
   "outputs": [
    {
     "output_type": "stream",
     "name": "stdout",
     "text": [
      "[[ 56.  70.]\n [ 81. 101.]\n [119. 133.]\n [ 22.  37.]\n [103. 119.]]\n"
     ]
    }
   ],
   "source": [
    "# targets = [apples, oranges]\n",
    "targets = np.array([\n",
    "    [56,70],\n",
    "    [81,101],\n",
    "    [119,133],\n",
    "    [22,37],\n",
    "    [103,119],\n",
    "], dtype='float32')\n",
    "print(targets)"
   ]
  },
  {
   "cell_type": "code",
   "execution_count": 201,
   "metadata": {},
   "outputs": [
    {
     "output_type": "stream",
     "name": "stdout",
     "text": [
      "tensor([[ 73.,  67.,  43.],\n        [ 91.,  88.,  64.],\n        [ 87., 134.,  58.],\n        [102.,  43.,  37.],\n        [ 69.,  96.,  70.]])\ntensor([[ 56.,  70.],\n        [ 81., 101.],\n        [119., 133.],\n        [ 22.,  37.],\n        [103., 119.]])\n"
     ]
    }
   ],
   "source": [
    "inputs = torch.from_numpy(inputs)\n",
    "targets = torch.from_numpy(targets)\n",
    "print(inputs)\n",
    "print(targets)"
   ]
  },
  {
   "cell_type": "code",
   "execution_count": 202,
   "metadata": {},
   "outputs": [
    {
     "output_type": "stream",
     "name": "stdout",
     "text": [
      "tensor([[ 1.6896, -0.0516,  1.2898],\n        [-0.2356, -0.9686, -0.5105]], requires_grad=True)\ntensor([-0.8661, -1.3995], requires_grad=True)\n"
     ]
    }
   ],
   "source": [
    "w = torch.randn((2,3), requires_grad=True)\n",
    "b = torch.randn(2, requires_grad=True)\n",
    "print(w)\n",
    "print(b)"
   ]
  },
  {
   "cell_type": "code",
   "execution_count": 203,
   "metadata": {},
   "outputs": [],
   "source": [
    "# y = w.T x + b\n",
    "def model(x):\n",
    "    return x @ w.T + b"
   ]
  },
  {
   "cell_type": "code",
   "execution_count": 204,
   "metadata": {},
   "outputs": [
    {
     "output_type": "stream",
     "name": "stdout",
     "text": [
      "tensor([[ 174.4781, -105.4465],\n        [ 230.8930, -140.7488],\n        [ 214.0232, -181.3012],\n        [ 216.9747,  -85.9672],\n        [ 201.0486, -146.3787]], grad_fn=<AddBackward0>)\n"
     ]
    }
   ],
   "source": [
    "preds = model(inputs.float())\n",
    "print(preds)"
   ]
  },
  {
   "cell_type": "code",
   "execution_count": 205,
   "metadata": {},
   "outputs": [
    {
     "output_type": "stream",
     "name": "stdout",
     "text": [
      "tensor([[ 56.,  70.],\n        [ 81., 101.],\n        [119., 133.],\n        [ 22.,  37.],\n        [103., 119.]])\n"
     ]
    }
   ],
   "source": [
    "print(targets)"
   ]
  },
  {
   "cell_type": "code",
   "execution_count": 206,
   "metadata": {},
   "outputs": [],
   "source": [
    "def mse(y_targets, y_preds):\n",
    "    diff = y_targets - y_preds\n",
    "    sum = torch.sum(diff * diff)\n",
    "    n = diff.numel()\n",
    "    return sum / n\n"
   ]
  },
  {
   "cell_type": "code",
   "execution_count": 207,
   "metadata": {},
   "outputs": [
    {
     "output_type": "execute_result",
     "data": {
      "text/plain": [
       "tensor(36671.9102, grad_fn=<DivBackward0>)"
      ]
     },
     "metadata": {},
     "execution_count": 207
    }
   ],
   "source": [
    "loss = mse(targets, preds)\n",
    "loss"
   ]
  },
  {
   "cell_type": "code",
   "execution_count": 208,
   "metadata": {},
   "outputs": [],
   "source": [
    "loss.backward()"
   ]
  },
  {
   "cell_type": "code",
   "execution_count": 209,
   "metadata": {},
   "outputs": [
    {
     "output_type": "stream",
     "name": "stdout",
     "text": [
      "tensor([[ 1.6896, -0.0516,  1.2898],\n        [-0.2356, -0.9686, -0.5105]], requires_grad=True)\ntensor([[ 11441.7920,  10331.6621,   6855.3052],\n        [-18600.9453, -21181.8242, -12874.3789]])\n"
     ]
    }
   ],
   "source": [
    "print(w)\n",
    "print(w.grad)"
   ]
  },
  {
   "cell_type": "code",
   "execution_count": 210,
   "metadata": {},
   "outputs": [
    {
     "output_type": "stream",
     "name": "stdout",
     "text": [
      "tensor([-0.8661, -1.3995], requires_grad=True)\ntensor([ 131.2835, -223.9685])\n"
     ]
    }
   ],
   "source": [
    "print(b)\n",
    "print(b.grad)"
   ]
  },
  {
   "cell_type": "code",
   "execution_count": 211,
   "metadata": {},
   "outputs": [],
   "source": [
    "# settings the grads back to zero\n",
    "# b.grad.zero_()\n",
    "# w.grad.zero_()\n",
    "# print(b.grad)\n",
    "# print(w.grad)    "
   ]
  },
  {
   "cell_type": "code",
   "execution_count": 212,
   "metadata": {},
   "outputs": [],
   "source": [
    "with torch.no_grad():\n",
    "    w -= w.grad * 1e-5\n",
    "    b -= b.grad * 1e-5\n",
    "    w.grad.zero_()\n",
    "    b.grad.zero_() "
   ]
  },
  {
   "cell_type": "code",
   "execution_count": 213,
   "metadata": {},
   "outputs": [
    {
     "output_type": "stream",
     "name": "stdout",
     "text": [
      "tensor([[ 1.5752, -0.1549,  1.2212],\n        [-0.0495, -0.7568, -0.3818]], requires_grad=True)\ntensor([-0.8674, -1.3973], requires_grad=True)\n"
     ]
    }
   ],
   "source": [
    "print(w)\n",
    "print(b)"
   ]
  },
  {
   "cell_type": "code",
   "execution_count": 214,
   "metadata": {},
   "outputs": [
    {
     "output_type": "stream",
     "name": "stdout",
     "text": [
      "tensor([[ 156.2543,  -72.1378],\n        [ 207.0004,  -96.9401],\n        [ 186.2470, -129.2654],\n        [ 198.3237,  -53.1203],\n        [ 178.4354, -104.1952]], grad_fn=<AddBackward0>)\n"
     ]
    },
    {
     "output_type": "execute_result",
     "data": {
      "text/plain": [
       "tensor(25333.4082, grad_fn=<DivBackward0>)"
      ]
     },
     "metadata": {},
     "execution_count": 214
    }
   ],
   "source": [
    "preds = model(inputs)\n",
    "print(preds)\n",
    "\n",
    "loss = mse(targets, preds)\n",
    "loss\n",
    "\n"
   ]
  },
  {
   "source": [
    "## Training for Multiple Epochs"
   ],
   "cell_type": "markdown",
   "metadata": {}
  },
  {
   "cell_type": "code",
   "execution_count": 222,
   "metadata": {},
   "outputs": [],
   "source": [
    "for i in range(100):\n",
    "    preds = model(inputs)\n",
    "    loss = mse(targets, preds)\n",
    "    loss.backward()\n",
    "    with torch.no_grad():\n",
    "        w -= w.grad * 1e-4\n",
    "        b -= b.grad * 1e-4\n",
    "        w.grad.zero_()\n",
    "        b.grad.zero_() "
   ]
  },
  {
   "cell_type": "code",
   "execution_count": 223,
   "metadata": {},
   "outputs": [
    {
     "output_type": "stream",
     "name": "stdout",
     "text": [
      "tensor(4.2962, grad_fn=<DivBackward0>)\n"
     ]
    }
   ],
   "source": [
    "print(loss)"
   ]
  },
  {
   "cell_type": "code",
   "execution_count": 224,
   "metadata": {},
   "outputs": [
    {
     "output_type": "stream",
     "name": "stdout",
     "text": [
      "tensor([[ 56.9102,  70.2830],\n        [ 83.3178,  99.1543],\n        [116.5735, 136.4436],\n        [ 20.5908,  38.0665],\n        [103.9647, 115.6127]], grad_fn=<AddBackward0>)\n"
     ]
    }
   ],
   "source": [
    "print(preds)"
   ]
  },
  {
   "cell_type": "code",
   "execution_count": 221,
   "metadata": {},
   "outputs": [
    {
     "output_type": "stream",
     "name": "stdout",
     "text": [
      "tensor([[ 56.,  70.],\n        [ 81., 101.],\n        [119., 133.],\n        [ 22.,  37.],\n        [103., 119.]])\n"
     ]
    }
   ],
   "source": [
    "print(targets)"
   ]
  },
  {
   "cell_type": "code",
   "execution_count": null,
   "metadata": {},
   "outputs": [],
   "source": []
  }
 ]
}