{
  "nbformat": 4,
  "nbformat_minor": 0,
  "metadata": {
    "colab": {
      "provenance": [],
      "authorship_tag": "ABX9TyOFxkO4YuCjk1kGw5jirVQQ",
      "include_colab_link": true
    },
    "kernelspec": {
      "name": "python3",
      "display_name": "Python 3"
    },
    "language_info": {
      "name": "python"
    }
  },
  "cells": [
    {
      "cell_type": "markdown",
      "metadata": {
        "id": "view-in-github",
        "colab_type": "text"
      },
      "source": [
        "<a href=\"https://colab.research.google.com/github/Vikas-KM/pytorch-learning/blob/main/datasets/datasets.ipynb\" target=\"_parent\"><img src=\"https://colab.research.google.com/assets/colab-badge.svg\" alt=\"Open In Colab\"/></a>"
      ]
    },
    {
      "cell_type": "markdown",
      "source": [
        "### Datasets and Dataloaders"
      ],
      "metadata": {
        "id": "r86sMU0v5UnV"
      }
    },
    {
      "cell_type": "code",
      "execution_count": 1,
      "metadata": {
        "id": "KKYqLpbQ5MW-"
      },
      "outputs": [],
      "source": [
        "# How to import the data"
      ]
    },
    {
      "cell_type": "code",
      "source": [],
      "metadata": {
        "id": "i67TOTFV5aFy"
      },
      "execution_count": null,
      "outputs": []
    }
  ]
}